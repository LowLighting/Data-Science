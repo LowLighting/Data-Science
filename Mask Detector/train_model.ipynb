{
 "cells": [
  {
   "cell_type": "code",
   "execution_count": 4,
   "metadata": {},
   "outputs": [],
   "source": [
    "import matplotlib.pyplot as plt\n",
    "import numpy as np\n",
    "from tensorflow.keras.preprocessing.image import ImageDataGenerator\n",
    "from tensorflow.keras.applications import MobileNetV2\n",
    "from tensorflow.keras.layers import AveragePooling2D\n",
    "from tensorflow.keras.layers import Dropout\n",
    "from tensorflow.keras.layers import Flatten\n",
    "from tensorflow.keras.layers import Dense\n",
    "from tensorflow.keras.layers import Input\n",
    "from tensorflow.keras.models import Model\n",
    "from tensorflow.keras.optimizers import Adam\n",
    "from tensorflow.keras.applications.mobilenet_v2 import preprocess_input\n",
    "from tensorflow.keras.preprocessing.image import img_to_array\n",
    "from tensorflow.keras.preprocessing.image import load_img\n",
    "from tensorflow.keras.utils import to_categorical\n",
    "from sklearn.preprocessing import LabelBinarizer\n",
    "from sklearn.model_selection import train_test_split\n",
    "from sklearn.metrics import classification_report\n",
    "from imutils import paths\n",
    "import os\n",
    "%matplotlib inline"
   ]
  },
  {
   "cell_type": "code",
   "execution_count": 5,
   "metadata": {},
   "outputs": [],
   "source": [
    "PATH = r\"Dataset\"\n",
    "CATEGORIES = [\"with_mask\", \"without_mask\"]"
   ]
  },
  {
   "cell_type": "code",
   "execution_count": 6,
   "metadata": {},
   "outputs": [],
   "source": [
    "data = []\n",
    "labels = []\n",
    "\n",
    "for category in CATEGORIES:\n",
    "    path = os.path.join(PATH, category)\n",
    "    for img in os.listdir(path):\n",
    "        img_path = os.path.join(path, img)\n",
    "        image = load_img(img_path, target_size=(224, 224))\n",
    "        image = img_to_array(image)\n",
    "        image = preprocess_input(image)\n",
    "        data.append(image)\n",
    "        labels.append(category)"
   ]
  },
  {
   "cell_type": "code",
   "execution_count": 7,
   "metadata": {},
   "outputs": [],
   "source": [
    "lb = LabelBinarizer()\n",
    "labels = lb.fit_transform(labels)\n",
    "labels = to_categorical(labels)\n",
    "\n",
    "data = np.array(data, dtype=\"float32\")\n",
    "labels = np.array(labels)"
   ]
  },
  {
   "cell_type": "code",
   "execution_count": 8,
   "metadata": {},
   "outputs": [],
   "source": [
    "(trainX, testX, trainY, testY) = train_test_split(data, labels,\n",
    "                                                  test_size=0.20, stratify=labels, random_state=42)"
   ]
  },
  {
   "cell_type": "code",
   "execution_count": 9,
   "metadata": {},
   "outputs": [],
   "source": [
    "aug = ImageDataGenerator(\n",
    "    rotation_range=20,\n",
    "    zoom_range=0.15,\n",
    "    width_shift_range=0.2,\n",
    "    height_shift_range=0.2,\n",
    "    shear_range=0.15,\n",
    "    horizontal_flip=True,\n",
    "    fill_mode=\"nearest\")"
   ]
  },
  {
   "cell_type": "code",
   "execution_count": 10,
   "metadata": {},
   "outputs": [
    {
     "name": "stdout",
     "output_type": "stream",
     "text": [
      "WARNING:tensorflow:`input_shape` is undefined or non-square, or `rows` is not in [96, 128, 160, 192, 224]. Weights for input shape (224, 224) will be loaded as the default.\n",
      "Downloading data from https://storage.googleapis.com/tensorflow/keras-applications/mobilenet_v2/mobilenet_v2_weights_tf_dim_ordering_tf_kernels_1.0_224_no_top.h5\n",
      "9412608/9406464 [==============================] - 21s 2us/step\n"
     ]
    }
   ],
   "source": [
    "Mobile = MobileNetV2(weights=\"imagenet\", include_top=False,\n",
    "                    input_tensor=Input(shape=(224, 224, 3)))"
   ]
  },
  {
   "cell_type": "code",
   "execution_count": 11,
   "metadata": {},
   "outputs": [],
   "source": [
    "headModel = AveragePooling2D(pool_size=(7, 7))(Mobile.output)\n",
    "headModel = Flatten(name=\"flatten\")(Mobile.output)\n",
    "headModel = Dense(128, activation=\"relu\")(Mobile.output)\n",
    "headModel = Dropout(0.5)(Mobile.output)\n",
    "headModel = Dense(2, activation=\"softmax\")(Mobile.output)"
   ]
  },
  {
   "cell_type": "code",
   "execution_count": 12,
   "metadata": {},
   "outputs": [],
   "source": [
    "model = Model(inputs=Mobile.input, outputs=Mobile.output)"
   ]
  },
  {
   "cell_type": "code",
   "execution_count": 13,
   "metadata": {},
   "outputs": [],
   "source": [
    "LR = 1e-5\n",
    "EPOCHS = 35\n",
    "BS = 32"
   ]
  },
  {
   "cell_type": "code",
   "execution_count": 14,
   "metadata": {},
   "outputs": [],
   "source": [
    "for layer in Mobile.layers:\n",
    "    layer.trainable = False"
   ]
  },
  {
   "cell_type": "code",
   "execution_count": 15,
   "metadata": {},
   "outputs": [],
   "source": [
    "opt = Adam(lr=LR, decay=LR / EPOCHS)\n",
    "model.compile(loss=\"binary_crossentropy\", optimizer=opt,\n",
    "              metrics=[\"accuracy\"])"
   ]
  },
  {
   "cell_type": "code",
   "execution_count": 16,
   "metadata": {},
   "outputs": [
    {
     "name": "stdout",
     "output_type": "stream",
     "text": [
      "Epoch 1/35\n",
      "37/37 [==============================] - 50s 1s/step - loss: 0.8675 - accuracy: 0.5456 - val_loss: 0.6370 - val_accuracy: 0.6325\n",
      "Epoch 2/35\n",
      "37/37 [==============================] - 35s 950ms/step - loss: 0.6796 - accuracy: 0.6326 - val_loss: 0.5049 - val_accuracy: 0.7815\n",
      "Epoch 3/35\n",
      "37/37 [==============================] - 31s 845ms/step - loss: 0.5570 - accuracy: 0.7050 - val_loss: 0.3997 - val_accuracy: 0.8874\n",
      "Epoch 4/35\n",
      "37/37 [==============================] - 32s 861ms/step - loss: 0.4664 - accuracy: 0.7621 - val_loss: 0.3265 - val_accuracy: 0.9470\n",
      "Epoch 5/35\n",
      "37/37 [==============================] - 31s 827ms/step - loss: 0.4178 - accuracy: 0.8107 - val_loss: 0.2729 - val_accuracy: 0.9636\n",
      "Epoch 6/35\n",
      "37/37 [==============================] - 32s 875ms/step - loss: 0.3404 - accuracy: 0.8627 - val_loss: 0.2318 - val_accuracy: 0.9702\n",
      "Epoch 7/35\n",
      "37/37 [==============================] - 31s 840ms/step - loss: 0.2980 - accuracy: 0.8866 - val_loss: 0.1989 - val_accuracy: 0.9801\n",
      "Epoch 8/35\n",
      "37/37 [==============================] - 31s 843ms/step - loss: 0.2864 - accuracy: 0.8934 - val_loss: 0.1739 - val_accuracy: 0.9868\n",
      "Epoch 9/35\n",
      "37/37 [==============================] - 31s 838ms/step - loss: 0.2237 - accuracy: 0.9335 - val_loss: 0.1533 - val_accuracy: 0.9901\n",
      "Epoch 10/35\n",
      "37/37 [==============================] - 31s 829ms/step - loss: 0.2273 - accuracy: 0.9199 - val_loss: 0.1366 - val_accuracy: 0.9901\n",
      "Epoch 11/35\n",
      "37/37 [==============================] - 31s 830ms/step - loss: 0.2216 - accuracy: 0.9327 - val_loss: 0.1247 - val_accuracy: 0.9901\n",
      "Epoch 12/35\n",
      "37/37 [==============================] - 31s 830ms/step - loss: 0.1727 - accuracy: 0.9506 - val_loss: 0.1136 - val_accuracy: 0.9901\n",
      "Epoch 13/35\n",
      "37/37 [==============================] - 31s 838ms/step - loss: 0.1920 - accuracy: 0.9378 - val_loss: 0.1033 - val_accuracy: 0.9901\n",
      "Epoch 14/35\n",
      "37/37 [==============================] - 31s 838ms/step - loss: 0.1635 - accuracy: 0.9506 - val_loss: 0.0963 - val_accuracy: 0.9901\n",
      "Epoch 15/35\n",
      "37/37 [==============================] - 36s 964ms/step - loss: 0.1507 - accuracy: 0.9608 - val_loss: 0.0886 - val_accuracy: 0.9901\n",
      "Epoch 16/35\n",
      "37/37 [==============================] - 31s 844ms/step - loss: 0.1313 - accuracy: 0.9582 - val_loss: 0.0826 - val_accuracy: 0.9901\n",
      "Epoch 17/35\n",
      "37/37 [==============================] - 33s 896ms/step - loss: 0.1359 - accuracy: 0.9685 - val_loss: 0.0777 - val_accuracy: 0.9901\n",
      "Epoch 18/35\n",
      "37/37 [==============================] - 30s 821ms/step - loss: 0.1213 - accuracy: 0.9659 - val_loss: 0.0725 - val_accuracy: 0.9901\n",
      "Epoch 19/35\n",
      "37/37 [==============================] - 30s 822ms/step - loss: 0.1146 - accuracy: 0.9702 - val_loss: 0.0686 - val_accuracy: 0.9901\n",
      "Epoch 20/35\n",
      "37/37 [==============================] - 30s 818ms/step - loss: 0.1083 - accuracy: 0.9668 - val_loss: 0.0654 - val_accuracy: 0.9901\n",
      "Epoch 21/35\n",
      "37/37 [==============================] - 30s 810ms/step - loss: 0.1007 - accuracy: 0.9727 - val_loss: 0.0621 - val_accuracy: 0.9901\n",
      "Epoch 22/35\n",
      "37/37 [==============================] - 30s 815ms/step - loss: 0.1029 - accuracy: 0.9744 - val_loss: 0.0597 - val_accuracy: 0.9901\n",
      "Epoch 23/35\n",
      "37/37 [==============================] - 30s 816ms/step - loss: 0.0929 - accuracy: 0.9727 - val_loss: 0.0560 - val_accuracy: 0.9901\n",
      "Epoch 24/35\n",
      "37/37 [==============================] - 30s 819ms/step - loss: 0.1082 - accuracy: 0.9685 - val_loss: 0.0536 - val_accuracy: 0.9901\n",
      "Epoch 25/35\n",
      "37/37 [==============================] - 31s 828ms/step - loss: 0.0961 - accuracy: 0.9736 - val_loss: 0.0516 - val_accuracy: 0.9901\n",
      "Epoch 26/35\n",
      "37/37 [==============================] - 30s 816ms/step - loss: 0.0792 - accuracy: 0.9787 - val_loss: 0.0495 - val_accuracy: 0.9901\n",
      "Epoch 27/35\n",
      "37/37 [==============================] - 34s 914ms/step - loss: 0.0808 - accuracy: 0.9778 - val_loss: 0.0478 - val_accuracy: 0.9901\n",
      "Epoch 28/35\n",
      "37/37 [==============================] - 34s 929ms/step - loss: 0.0737 - accuracy: 0.9838 - val_loss: 0.0458 - val_accuracy: 0.9901\n",
      "Epoch 29/35\n",
      "37/37 [==============================] - 32s 874ms/step - loss: 0.0747 - accuracy: 0.9787 - val_loss: 0.0442 - val_accuracy: 0.9901\n",
      "Epoch 30/35\n",
      "37/37 [==============================] - 33s 902ms/step - loss: 0.0828 - accuracy: 0.9770 - val_loss: 0.0429 - val_accuracy: 0.9901\n",
      "Epoch 31/35\n",
      "37/37 [==============================] - 33s 880ms/step - loss: 0.0715 - accuracy: 0.9778 - val_loss: 0.0414 - val_accuracy: 0.9901\n",
      "Epoch 32/35\n",
      "37/37 [==============================] - 33s 901ms/step - loss: 0.0742 - accuracy: 0.9795 - val_loss: 0.0402 - val_accuracy: 0.9901\n",
      "Epoch 33/35\n",
      "37/37 [==============================] - 34s 917ms/step - loss: 0.0725 - accuracy: 0.9855 - val_loss: 0.0393 - val_accuracy: 0.9901\n",
      "Epoch 34/35\n",
      "37/37 [==============================] - 31s 846ms/step - loss: 0.0670 - accuracy: 0.9829 - val_loss: 0.0378 - val_accuracy: 0.9901\n",
      "Epoch 35/35\n",
      "37/37 [==============================] - 33s 904ms/step - loss: 0.0637 - accuracy: 0.9847 - val_loss: 0.0368 - val_accuracy: 0.9901\n"
     ]
    }
   ],
   "source": [
    "H = model.fit(\n",
    "    aug.flow(trainX, trainY, batch_size=BS),\n",
    "    steps_per_epoch=len(trainX) // BS,\n",
    "    validation_data=(testX, testY),\n",
    "    validation_steps=len(testX) // BS,\n",
    "    epochs=EPOCHS)"
   ]
  },
  {
   "cell_type": "code",
   "execution_count": 17,
   "metadata": {},
   "outputs": [],
   "source": [
    "predIdxs = model.predict(testX, batch_size=BS)"
   ]
  },
  {
   "cell_type": "code",
   "execution_count": 18,
   "metadata": {},
   "outputs": [],
   "source": [
    "predIdxs = np.argmax(predIdxs, axis=1)"
   ]
  },
  {
   "cell_type": "code",
   "execution_count": 20,
   "metadata": {},
   "outputs": [
    {
     "name": "stdout",
     "output_type": "stream",
     "text": [
      "              precision    recall  f1-score   support\n",
      "\n",
      "           0       0.99      0.99      0.99       151\n",
      "           1       0.99      0.99      0.99       151\n",
      "\n",
      "    accuracy                           0.99       302\n",
      "   macro avg       0.99      0.99      0.99       302\n",
      "weighted avg       0.99      0.99      0.99       302\n",
      "\n"
     ]
    }
   ],
   "source": [
    "print(classification_report(testY.argmax(axis=1), predIdxs))"
   ]
  },
  {
   "cell_type": "code",
   "execution_count": 21,
   "metadata": {},
   "outputs": [
    {
     "data": {
      "text/plain": [
       "<matplotlib.legend.Legend at 0x2c5bcc89dc8>"
      ]
     },
     "execution_count": 21,
     "metadata": {},
     "output_type": "execute_result"
    },
    {
     "data": {
      "image/png": "[encoded data removed]",
      "text/plain": [
       "<Figure size 432x288 with 1 Axes>"
      ]
     },
     "metadata": {},
     "output_type": "display_data"
    }
   ],
   "source": [
    "plt.style.use(\"ggplot\")\n",
    "plt.figure()\n",
    "plt.plot(np.arange(0, EPOCHS), H.history[\"loss\"], label=\"train_loss\")\n",
    "plt.plot(np.arange(0, EPOCHS), H.history[\"val_loss\"], label=\"val_loss\")\n",
    "plt.plot(np.arange(0, EPOCHS), H.history[\"accuracy\"], label=\"train_acc\")\n",
    "plt.plot(np.arange(0, EPOCHS), H.history[\"val_accuracy\"], label=\"val_acc\")\n",
    "plt.title(\"Training Loss and Accuracy\")\n",
    "plt.xlabel(\"Epoch\")\n",
    "plt.ylabel(\"Loss/Accuracy\")\n",
    "plt.legend(loc=\"lower left\")"
   ]
  },
  {
   "cell_type": "code",
   "execution_count": 22,
   "metadata": {},
   "outputs": [],
   "source": [
    "model.save(\"mask_detector1.model\", save_format=\"h5\")"
   ]
  }
 ],
 "metadata": {
  "kernelspec": {
   "display_name": "Python 3",
   "language": "python",
   "name": "python3"
  },
  "language_info": {
   "codemirror_mode": {
    "name": "ipython",
    "version": 3
   },
   "file_extension": ".py",
   "mimetype": "text/x-python",
   "name": "python",
   "nbconvert_exporter": "python",
   "pygments_lexer": "ipython3",
   "version": "3.7.6"
  }
 },
 "nbformat": 4,
 "nbformat_minor": 4
}
